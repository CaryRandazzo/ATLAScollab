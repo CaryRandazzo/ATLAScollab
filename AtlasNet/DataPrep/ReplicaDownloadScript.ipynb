{
 "cells": [
  {
   "cell_type": "code",
   "execution_count": 33,
   "id": "medical-magnitude",
   "metadata": {
    "ExecuteTime": {
     "end_time": "2021-07-14T22:53:26.789929Z",
     "start_time": "2021-07-14T22:53:26.781493Z"
    }
   },
   "outputs": [],
   "source": [
    "def proc_rucDL_text(filename):\n",
    "    \"\"\"\n",
    "    Processes the text file containing lines of rucio download files in the form <scope>:<did>, one per line\n",
    "    \"\"\"\n",
    "\n",
    "    with open(filename, \"r+\") as f:\n",
    "        # here, position is initially at the beginning\n",
    "        text = f.read()\n",
    "        # now its at the end of this file\n",
    "    with open(filename+\"_processed\",'w') as f:\n",
    "        for line in text.split('\\n'):\n",
    "            f.write('rucio download '+ line + '\\n')\n",
    "\n",
    "    return"
   ]
  },
  {
   "cell_type": "code",
   "execution_count": 34,
   "id": "modern-breakdown",
   "metadata": {
    "ExecuteTime": {
     "end_time": "2021-07-14T22:53:27.986146Z",
     "start_time": "2021-07-14T22:53:27.967082Z"
    }
   },
   "outputs": [],
   "source": [
    "proc_rucDL_text('RECORD_requested_7-12-21_received_7-13-21')"
   ]
  }
 ],
 "metadata": {
  "kernelspec": {
   "display_name": "Python 3",
   "language": "python",
   "name": "python3"
  },
  "language_info": {
   "codemirror_mode": {
    "name": "ipython",
    "version": 3
   },
   "file_extension": ".py",
   "mimetype": "text/x-python",
   "name": "python",
   "nbconvert_exporter": "python",
   "pygments_lexer": "ipython3",
   "version": "3.8.6"
  },
  "varInspector": {
   "cols": {
    "lenName": 16,
    "lenType": 16,
    "lenVar": 40
   },
   "kernels_config": {
    "python": {
     "delete_cmd_postfix": "",
     "delete_cmd_prefix": "del ",
     "library": "var_list.py",
     "varRefreshCmd": "print(var_dic_list())"
    },
    "r": {
     "delete_cmd_postfix": ") ",
     "delete_cmd_prefix": "rm(",
     "library": "var_list.r",
     "varRefreshCmd": "cat(var_dic_list()) "
    }
   },
   "types_to_exclude": [
    "module",
    "function",
    "builtin_function_or_method",
    "instance",
    "_Feature"
   ],
   "window_display": false
  }
 },
 "nbformat": 4,
 "nbformat_minor": 5
}
