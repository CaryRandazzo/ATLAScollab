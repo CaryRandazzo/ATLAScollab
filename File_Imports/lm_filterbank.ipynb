{
 "cells": [
  {
   "cell_type": "markdown",
   "metadata": {},
   "source": [
    "### Author: Tony Joseph"
   ]
  },
  {
   "cell_type": "code",
   "execution_count": 13,
   "metadata": {
    "ExecuteTime": {
     "end_time": "2021-08-04T19:54:13.943795Z",
     "start_time": "2021-08-04T19:54:13.911385Z"
    }
   },
   "outputs": [],
   "source": [
    "'''\n",
    "The Leung-Malik (LM) Filter Bank, implementation in python\n",
    "\n",
    "T. Leung and J. Malik. Representing and recognizing the visual appearance of\n",
    "materials using three-dimensional textons. International Journal of Computer\n",
    "Vision, 43(1):29-44, June 2001.\n",
    "\n",
    "Reference: http://www.robots.ox.ac.uk/~vgg/research/texclass/filters.html\n",
    "'''\n",
    "\n",
    "import numpy as np\n",
    "import cv2\n",
    "import matplotlib.pyplot as plt\n",
    "import scipy\n",
    "\n",
    "\n",
    "def gaussian1d(sigma, mean, x, ord):\n",
    "    x = np.array(x)\n",
    "    x_ = x - mean\n",
    "    var = sigma**2\n",
    "\n",
    "    # Gaussian Function\n",
    "    g1 = (1/np.sqrt(2*np.pi*var))*(np.exp((-1*x_*x_)/(2*var)))\n",
    "    \n",
    "    if ord == 0:\n",
    "        g = g1\n",
    "        return g\n",
    "    elif ord == 1:\n",
    "        g = -g1*((x_)/(var))\n",
    "        return g\n",
    "    else:\n",
    "        g = g1*(((x_*x_) - var)/(var**2))\n",
    "        return g\n",
    "\n",
    "    \n",
    "def gaussian2d(sup, scales):\n",
    "    var = scales * scales\n",
    "    shape = (sup,sup)\n",
    "    n,m = [(i - 1)/2 for i in shape]\n",
    "    x,y = np.ogrid[-m:m+1,-n:n+1]\n",
    "    g = (1/np.sqrt(2*np.pi*var))*np.exp( -(x*x + y*y) / (2*var) )\n",
    "    return g\n",
    "\n",
    "\n",
    "def log2d(sup, scales):\n",
    "    var = scales * scales\n",
    "    shape = (sup,sup)\n",
    "    n,m = [(i - 1)/2 for i in shape]\n",
    "    x,y = np.ogrid[-m:m+1,-n:n+1]\n",
    "    g = (1/np.sqrt(2*np.pi*var))*np.exp( -(x*x + y*y) / (2*var) )\n",
    "    h = g*((x*x + y*y) - var)/(var**2)\n",
    "    return h\n",
    "\n",
    "\n",
    "def makefilter(scale, phasex, phasey, pts, sup):\n",
    "\n",
    "    gx = gaussian1d(3*scale, 0, pts[0,...], phasex)\n",
    "    gy = gaussian1d(scale,   0, pts[1,...], phasey)\n",
    "\n",
    "    image = gx*gy\n",
    "\n",
    "    image = np.reshape(image,(sup,sup))\n",
    "    return image\n",
    "\n",
    "\n",
    "def makeLMfilters():\n",
    "    sup     = 49\n",
    "    scalex  = np.sqrt(2) * np.array([1,2,3])\n",
    "    norient = 6\n",
    "    nrotinv = 12\n",
    "\n",
    "    nbar  = len(scalex)*norient\n",
    "    nedge = len(scalex)*norient\n",
    "    nf    = nbar+nedge+nrotinv\n",
    "    F     = np.zeros([sup,sup,nf])\n",
    "    hsup  = (sup - 1)/2\n",
    "\n",
    "    x = [np.arange(-hsup,hsup+1)]\n",
    "    y = [np.arange(-hsup,hsup+1)]\n",
    "\n",
    "    [x,y] = np.meshgrid(x,y)\n",
    "\n",
    "    orgpts = [x.flatten(), y.flatten()]\n",
    "    orgpts = np.array(orgpts)\n",
    "    \n",
    "    count = 0\n",
    "    for scale in range(len(scalex)):\n",
    "        for orient in range(norient):\n",
    "            angle = (np.pi * orient)/norient\n",
    "            c = np.cos(angle)\n",
    "            s = np.sin(angle)\n",
    "            rotpts = [[c+0,-s+0],[s+0,c+0]]\n",
    "            rotpts = np.array(rotpts)\n",
    "            rotpts = np.dot(rotpts,orgpts)\n",
    "            F[:,:,count] = makefilter(scalex[scale], 0, 1, rotpts, sup)\n",
    "            F[:,:,count+nedge] = makefilter(scalex[scale], 0, 2, rotpts, sup)\n",
    "            count = count + 1\n",
    "            \n",
    "    count = nbar+nedge\n",
    "    scales = np.sqrt(2) * np.array([1,2,3,4])\n",
    "    \n",
    "    for i in range(len(scales)):\n",
    "        F[:,:,count]   = gaussian2d(sup, scales[i])\n",
    "        count = count + 1\n",
    "        \n",
    "    for i in range(len(scales)):\n",
    "        F[:,:,count] = log2d(sup, scales[i])\n",
    "        count = count + 1\n",
    "        \n",
    "    for i in range(len(scales)):\n",
    "        F[:,:,count] = log2d(sup, 3*scales[i])\n",
    "        count = count + 1\n",
    "        \n",
    "    return F"
   ]
  },
  {
   "cell_type": "code",
   "execution_count": 2,
   "metadata": {
    "ExecuteTime": {
     "end_time": "2021-08-04T19:44:55.533944Z",
     "start_time": "2021-08-04T19:44:55.527466Z"
    }
   },
   "outputs": [],
   "source": [
    "# %matplotlib inline"
   ]
  },
  {
   "cell_type": "code",
   "execution_count": 3,
   "metadata": {
    "ExecuteTime": {
     "end_time": "2021-08-04T19:44:57.006610Z",
     "start_time": "2021-08-04T19:44:57.000978Z"
    }
   },
   "outputs": [],
   "source": [
    "# def gaussian1d(sigma, mean, x, ord):\n",
    "#     x = np.array(x)\n",
    "#     x_ = x - mean\n",
    "#     var = sigma**2\n",
    "\n",
    "#     # Gaussian Function\n",
    "#     g1 = (1/np.sqrt(2*np.pi*var))*(np.exp((-1*x_*x_)/(2*var)))\n",
    "    \n",
    "#     if ord == 0:\n",
    "#         g = g1\n",
    "#         return g\n",
    "#     elif ord == 1:\n",
    "#         g = -g1*((x_)/(var))\n",
    "#         return g\n",
    "#     else:\n",
    "#         g = g1*(((x_*x_) - var)/(var**2))\n",
    "#         return g\n"
   ]
  },
  {
   "cell_type": "code",
   "execution_count": 4,
   "metadata": {
    "ExecuteTime": {
     "end_time": "2021-08-04T19:44:58.208278Z",
     "start_time": "2021-08-04T19:44:58.203223Z"
    }
   },
   "outputs": [],
   "source": [
    "# def gaussian2d(sup, scales):\n",
    "#     var = scales * scales\n",
    "#     shape = (sup,sup)\n",
    "#     n,m = [(i - 1)/2 for i in shape]\n",
    "#     x,y = np.ogrid[-m:m+1,-n:n+1]\n",
    "#     g = (1/np.sqrt(2*np.pi*var))*np.exp( -(x*x + y*y) / (2*var) )\n",
    "#     return g"
   ]
  },
  {
   "cell_type": "code",
   "execution_count": 5,
   "metadata": {
    "ExecuteTime": {
     "end_time": "2021-08-04T19:44:58.880050Z",
     "start_time": "2021-08-04T19:44:58.874513Z"
    }
   },
   "outputs": [],
   "source": [
    "# def log2d(sup, scales):\n",
    "#     var = scales * scales\n",
    "#     shape = (sup,sup)\n",
    "#     n,m = [(i - 1)/2 for i in shape]\n",
    "#     x,y = np.ogrid[-m:m+1,-n:n+1]\n",
    "#     g = (1/np.sqrt(2*np.pi*var))*np.exp( -(x*x + y*y) / (2*var) )\n",
    "#     h = g*((x*x + y*y) - var)/(var**2)\n",
    "#     return h"
   ]
  },
  {
   "cell_type": "code",
   "execution_count": 6,
   "metadata": {
    "ExecuteTime": {
     "end_time": "2021-08-04T19:45:00.211701Z",
     "start_time": "2021-08-04T19:45:00.207053Z"
    }
   },
   "outputs": [],
   "source": [
    "# def makefilter(scale, phasex, phasey, pts, sup):\n",
    "\n",
    "#     gx = gaussian1d(3*scale, 0, pts[0,...], phasex)\n",
    "#     gy = gaussian1d(scale,   0, pts[1,...], phasey)\n",
    "\n",
    "#     image = gx*gy\n",
    "\n",
    "#     image = np.reshape(image,(sup,sup))\n",
    "#     return image"
   ]
  },
  {
   "cell_type": "code",
   "execution_count": 7,
   "metadata": {
    "ExecuteTime": {
     "end_time": "2021-08-04T19:45:00.457147Z",
     "start_time": "2021-08-04T19:45:00.443451Z"
    }
   },
   "outputs": [],
   "source": [
    "# def makeLMfilters():\n",
    "#     sup     = 49\n",
    "#     scalex  = np.sqrt(2) * np.array([1,2,3])\n",
    "#     norient = 6\n",
    "#     nrotinv = 12\n",
    "\n",
    "#     nbar  = len(scalex)*norient\n",
    "#     nedge = len(scalex)*norient\n",
    "#     nf    = nbar+nedge+nrotinv\n",
    "#     F     = np.zeros([sup,sup,nf])\n",
    "#     hsup  = (sup - 1)/2\n",
    "\n",
    "#     x = [np.arange(-hsup,hsup+1)]\n",
    "#     y = [np.arange(-hsup,hsup+1)]\n",
    "\n",
    "#     [x,y] = np.meshgrid(x,y)\n",
    "\n",
    "#     orgpts = [x.flatten(), y.flatten()]\n",
    "#     orgpts = np.array(orgpts)\n",
    "    \n",
    "#     count = 0\n",
    "#     for scale in range(len(scalex)):\n",
    "#         for orient in range(norient):\n",
    "#             angle = (np.pi * orient)/norient\n",
    "#             c = np.cos(angle)\n",
    "#             s = np.sin(angle)\n",
    "#             rotpts = [[c+0,-s+0],[s+0,c+0]]\n",
    "#             rotpts = np.array(rotpts)\n",
    "#             rotpts = np.dot(rotpts,orgpts)\n",
    "#             F[:,:,count] = makefilter(scalex[scale], 0, 1, rotpts, sup)\n",
    "#             F[:,:,count+nedge] = makefilter(scalex[scale], 0, 2, rotpts, sup)\n",
    "#             count = count + 1\n",
    "            \n",
    "#     count = nbar+nedge\n",
    "#     scales = np.sqrt(2) * np.array([1,2,3,4])\n",
    "    \n",
    "#     for i in range(len(scales)):\n",
    "#         F[:,:,count]   = gaussian2d(sup, scales[i])\n",
    "#         count = count + 1\n",
    "        \n",
    "#     for i in range(len(scales)):\n",
    "#         F[:,:,count] = log2d(sup, scales[i])\n",
    "#         count = count + 1\n",
    "        \n",
    "#     for i in range(len(scales)):\n",
    "#         F[:,:,count] = log2d(sup, 3*scales[i])\n",
    "#         count = count + 1\n",
    "        \n",
    "#     return F"
   ]
  },
  {
   "cell_type": "code",
   "execution_count": 9,
   "metadata": {
    "ExecuteTime": {
     "end_time": "2021-08-04T19:45:18.520523Z",
     "start_time": "2021-08-04T19:45:18.505761Z"
    }
   },
   "outputs": [
    {
     "name": "stdout",
     "output_type": "stream",
     "text": [
      "(49, 49, 48)\n"
     ]
    }
   ],
   "source": [
    "# F = makeLMfilters()\n",
    "# print(F.shape)"
   ]
  },
  {
   "cell_type": "markdown",
   "metadata": {},
   "source": [
    "## First order derivative Gaussian Filter"
   ]
  },
  {
   "cell_type": "code",
   "execution_count": 10,
   "metadata": {
    "ExecuteTime": {
     "end_time": "2021-08-04T19:45:22.362464Z",
     "start_time": "2021-08-04T19:45:21.723745Z"
    }
   },
   "outputs": [
    {
     "data": {
      "image/png": "[encoded data removed]",
      "text/plain": [
       "<Figure size 432x288 with 18 Axes>"
      ]
     },
     "metadata": {
      "needs_background": "light"
     },
     "output_type": "display_data"
    }
   ],
   "source": [
    "# for i in range(0,18):\n",
    "#     plt.subplot(3,6,i+1)\n",
    "#     plt.axis('off')\n",
    "#     plt.imshow(F[:,:,i], cmap = 'gray')"
   ]
  },
  {
   "cell_type": "markdown",
   "metadata": {},
   "source": [
    "## Second order derivative Gaussian Filter"
   ]
  },
  {
   "cell_type": "code",
   "execution_count": 11,
   "metadata": {
    "ExecuteTime": {
     "end_time": "2021-08-04T19:45:24.769289Z",
     "start_time": "2021-08-04T19:45:24.111720Z"
    }
   },
   "outputs": [
    {
     "data": {
      "image/png": "[encoded data removed]",
      "text/plain": [
       "<Figure size 432x288 with 18 Axes>"
      ]
     },
     "metadata": {
      "needs_background": "light"
     },
     "output_type": "display_data"
    }
   ],
   "source": [
    "# for i in range(0,18):\n",
    "#     plt.subplot(3,6,i+1)\n",
    "#     plt.axis('off')\n",
    "#     plt.imshow(F[:,:,i+18], cmap = 'gray')"
   ]
  },
  {
   "cell_type": "markdown",
   "metadata": {},
   "source": [
    "## Gaussian and Laplacian Filter"
   ]
  },
  {
   "cell_type": "code",
   "execution_count": 12,
   "metadata": {
    "ExecuteTime": {
     "end_time": "2021-08-04T19:45:28.449526Z",
     "start_time": "2021-08-04T19:45:28.039391Z"
    }
   },
   "outputs": [
    {
     "data": {
      "image/png": "[encoded data removed]",
      "text/plain": [
       "<Figure size 432x288 with 12 Axes>"
      ]
     },
     "metadata": {
      "needs_background": "light"
     },
     "output_type": "display_data"
    }
   ],
   "source": [
    "# for i in range(0,12):\n",
    "#     plt.subplot(4,4,i+1)\n",
    "#     plt.axis('off')\n",
    "#     plt.imshow(F[:,:,i+36], cmap = 'gray')"
   ]
  }
 ],
 "metadata": {
  "kernelspec": {
   "display_name": "Python 3",
   "language": "python",
   "name": "python3"
  },
  "language_info": {
   "codemirror_mode": {
    "name": "ipython",
    "version": 3
   },
   "file_extension": ".py",
   "mimetype": "text/x-python",
   "name": "python",
   "nbconvert_exporter": "python",
   "pygments_lexer": "ipython3",
   "version": "3.8.6"
  },
  "varInspector": {
   "cols": {
    "lenName": 16,
    "lenType": 16,
    "lenVar": 40
   },
   "kernels_config": {
    "python": {
     "delete_cmd_postfix": "",
     "delete_cmd_prefix": "del ",
     "library": "var_list.py",
     "varRefreshCmd": "print(var_dic_list())"
    },
    "r": {
     "delete_cmd_postfix": ") ",
     "delete_cmd_prefix": "rm(",
     "library": "var_list.r",
     "varRefreshCmd": "cat(var_dic_list()) "
    }
   },
   "types_to_exclude": [
    "module",
    "function",
    "builtin_function_or_method",
    "instance",
    "_Feature"
   ],
   "window_display": false
  }
 },
 "nbformat": 4,
 "nbformat_minor": 1
}
